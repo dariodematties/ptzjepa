{
 "cells": [
  {
   "cell_type": "code",
   "execution_count": null,
   "metadata": {},
   "outputs": [],
   "source": [
    "import numpy as np\n",
    "import matplotlib.pyplot as plt\n",
    "import pandas as pd\n",
    "import os"
   ]
  },
  {
   "cell_type": "code",
   "execution_count": null,
   "metadata": {},
   "outputs": [],
   "source": [
    "from pathlib import Path"
   ]
  },
  {
   "cell_type": "code",
   "execution_count": null,
   "metadata": {},
   "outputs": [],
   "source": [
    "root_dir = Path(\"/Users/yufengluo/Research/anl/su24/trainings/workflow\")"
   ]
  },
  {
   "cell_type": "code",
   "execution_count": null,
   "metadata": {},
   "outputs": [],
   "source": [
    "pos_dir = root_dir / \"collected_positions\"\n",
    "img_dir = root_dir / \"collected_imgs\""
   ]
  },
  {
   "cell_type": "code",
   "execution_count": null,
   "metadata": {},
   "outputs": [],
   "source": [
    "# with open(pos_dir / \"positions_at_2024-07-17_23:43:46.302438.txt\", \"r\") as f:\n",
    "#     pos = np.array([l.strip().split(\",\") for l in f.readlines()], dtype=float)"
   ]
  },
  {
   "cell_type": "code",
   "execution_count": null,
   "metadata": {},
   "outputs": [],
   "source": [
    "len(os.listdir(pos_dir))"
   ]
  },
  {
   "cell_type": "code",
   "execution_count": null,
   "metadata": {},
   "outputs": [],
   "source": [
    "fnames = [f.stem for f in pos_dir.glob(\"*.txt\")]\n",
    "datetimes = pd.to_datetime([f.split(\"_at_\")[1] for f in fnames], format=\"%Y-%m-%d_%H:%M:%S.%f\")\n",
    "idx = np.argsort(datetimes)\n",
    "fnames = [fnames[i] for i in idx]"
   ]
  },
  {
   "cell_type": "code",
   "execution_count": null,
   "metadata": {},
   "outputs": [],
   "source": [
    "fig, ax = plt.subplots(1, 1, figsize=(8, 4))\n",
    "ax.set_xlim([-185, 185])\n",
    "ax.set_ylim([-95, 5])\n",
    "ax.set_xlabel(\"Pan (deg)\")\n",
    "ax.set_ylabel(\"Tilt (deg)\")\n",
    "ax.set_aspect(\"equal\")\n",
    "for fn in fnames:\n",
    "    with open(pos_dir / f\"{fn}.txt\", \"r\") as f:\n",
    "        pos = np.array([l.strip().split(\",\") for l in f.readlines()], dtype=float)\n",
    "    ax.scatter(pos[:, 0], pos[:, 1], s=1)"
   ]
  },
  {
   "cell_type": "code",
   "execution_count": null,
   "metadata": {},
   "outputs": [],
   "source": [
    "pos = []\n",
    "for fn in fnames:\n",
    "    with open(pos_dir / f\"{fn}.txt\", \"r\") as f:\n",
    "        pos.append(np.array([l.strip().split(\",\") for l in f.readlines()], dtype=float))\n",
    "pos = np.vstack(pos)"
   ]
  },
  {
   "cell_type": "code",
   "execution_count": null,
   "metadata": {},
   "outputs": [],
   "source": [
    "import matplotlib.animation as animation\n",
    "\n",
    "pos = []\n",
    "for fn in fnames:\n",
    "    with open(pos_dir / f\"{fn}.txt\", \"r\") as f:\n",
    "        pos.append(np.array([l.strip().split(\",\") for l in f.readlines()], dtype=float))\n",
    "pos = np.vstack(pos)\n",
    "\n",
    "fig, ax = plt.subplots(1, 1, figsize=(8, 4))\n",
    "ax.set_xlim([-185, 185])\n",
    "ax.set_ylim([-95, 5])\n",
    "ax.set_xlabel(\"Pan (deg)\")\n",
    "ax.set_ylabel(\"Tilt (deg)\")\n",
    "ax.set_aspect(\"equal\")\n",
    "scat = ax.scatter(pos[0, 0], pos[0, 1], s=5, c='tab:red')\n",
    "\n",
    "\n",
    "def animate(i):\n",
    "    # if i < 5:\n",
    "    #     for j in range(i-1):\n",
    "    #         scat.plot(pos[j, 0], pos[j, 1], s=5)\n",
    "    # else:\n",
    "    # scat.set_offsets((pos[i, 0], pos[i, 1]))\n",
    "    # for j in range(max(i-5, 0), i):\n",
    "    # # if i > 0:\n",
    "    ax.scatter(pos[i, 0], pos[i, 1], s=5, c='tab:red')\n",
    "    return scat,\n",
    "\n",
    "# def update(frame):\n",
    "#     global positions\n",
    "#     positions += velocities  # Update positions\n",
    "#     lo = 0 if frame < 10 else frame - 10\n",
    "#     for i in range(lo, frame):\n",
    "#         scat.set_offsets(positions[i])\n",
    "#     # Update the trails\n",
    "#     for i in range(num_points):\n",
    "#         trails[i].append(positions[i].copy())\n",
    "#         if len(trails[i]) > 10:  # Limit trail length\n",
    "#             trails[i].pop(0)\n",
    "\n",
    "#     # Update the scatter plot\n",
    "#     scatter.set_offsets(positions)\n",
    "\n",
    "#     # Draw the trails\n",
    "#     for trail in trails:\n",
    "#         if len(trail) > 1:\n",
    "#             trail_array = np.array(trail)\n",
    "#             ax.plot(trail_array[:, 0], trail_array[:, 1], 'b-', alpha=0.5)\n",
    "\n",
    "#     return scatter,\n",
    "\n",
    "\n",
    "ani = animation.FuncAnimation(fig, animate, repeat=True,\n",
    "                                    frames=len(pos) - 1, interval=20)\n",
    "# plt.show()\n",
    "writer = animation.PillowWriter(fps=15,\n",
    "                                metadata=dict(artist='Me'),\n",
    "                                bitrate=1800)\n",
    "ani.save('scatter.gif', writer=writer)"
   ]
  },
  {
   "cell_type": "code",
   "execution_count": null,
   "metadata": {},
   "outputs": [],
   "source": [
    "pos.shape"
   ]
  },
  {
   "cell_type": "code",
   "execution_count": null,
   "metadata": {},
   "outputs": [],
   "source": [
    "pos = []\n",
    "for fn in fnames:\n",
    "    with open(pos_dir / f\"{fn}.txt\", \"r\") as f:\n",
    "        pos.append(np.array([l.strip().split(\",\") for l in f.readlines()], dtype=float))\n",
    "pos = np.stack(pos)"
   ]
  },
  {
   "cell_type": "code",
   "execution_count": null,
   "metadata": {},
   "outputs": [],
   "source": [
    "pos.shape"
   ]
  },
  {
   "cell_type": "code",
   "execution_count": null,
   "metadata": {},
   "outputs": [],
   "source": [
    "diff = pos[:, 1:] - pos[:, :-1]"
   ]
  },
  {
   "cell_type": "code",
   "execution_count": null,
   "metadata": {},
   "outputs": [],
   "source": [
    "dist = np.sqrt(diff[:, :, 0]**2 + diff[:, :, 1]**2)"
   ]
  },
  {
   "cell_type": "code",
   "execution_count": null,
   "metadata": {},
   "outputs": [],
   "source": [
    "dist.mean()"
   ]
  },
  {
   "cell_type": "code",
   "execution_count": null,
   "metadata": {},
   "outputs": [],
   "source": [
    "pan_action = diff[:, :, 0]\n",
    "tilt_action = diff[:, :, 1]\n",
    "zoom_action = diff[:, :, 2]"
   ]
  },
  {
   "cell_type": "code",
   "execution_count": null,
   "metadata": {},
   "outputs": [],
   "source": [
    "plt.hist(pan_action[pan_action < 4].flatten(), bins=100)\n",
    "plt.xticks(np.arange(-2, 2, 0.5))\n",
    "plt.xlabel(\"Pan action\")\n",
    "plt.ylabel(\"Frequency\")\n",
    "plt.show()\n",
    "\n",
    "plt.hist(tilt_action[(tilt_action < 4)].flatten(), bins=100)\n",
    "# plt.xticks(np.arange(-2, 2, 0.5))\n",
    "plt.xlabel(\"Tilt action\")\n",
    "plt.ylabel(\"Frequency\")\n",
    "plt.show()"
   ]
  },
  {
   "cell_type": "code",
   "execution_count": null,
   "metadata": {},
   "outputs": [],
   "source": [
    "plt.hist(dist[dist < 10].flatten(), bins=100)\n",
    "plt.xlim([0, 8])\n",
    "plt.xlabel(\"Distance (deg)\")\n",
    "plt.ylabel(\"Count\")"
   ]
  },
  {
   "cell_type": "code",
   "execution_count": null,
   "metadata": {},
   "outputs": [],
   "source": []
  }
 ],
 "metadata": {
  "kernelspec": {
   "display_name": "Python 3 (ipykernel)",
   "language": "python",
   "name": "python3"
  },
  "language_info": {
   "codemirror_mode": {
    "name": "ipython",
    "version": 3
   },
   "file_extension": ".py",
   "mimetype": "text/x-python",
   "name": "python",
   "nbconvert_exporter": "python",
   "pygments_lexer": "ipython3",
   "version": "3.10.14"
  }
 },
 "nbformat": 4,
 "nbformat_minor": 4
}
